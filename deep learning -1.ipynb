{
 "cells": [
  {
   "cell_type": "code",
   "execution_count": 1,
   "id": "fad15e35",
   "metadata": {},
   "outputs": [],
   "source": [
    "import pandas as pd\n",
    "import numpy as np"
   ]
  },
  {
   "cell_type": "code",
   "execution_count": 2,
   "id": "78159069",
   "metadata": {},
   "outputs": [],
   "source": [
    "df=pd.read_csv('churning.csv')"
   ]
  },
  {
   "cell_type": "code",
   "execution_count": 3,
   "id": "628b3874",
   "metadata": {},
   "outputs": [
    {
     "data": {
      "text/html": [
       "<div>\n",
       "<style scoped>\n",
       "    .dataframe tbody tr th:only-of-type {\n",
       "        vertical-align: middle;\n",
       "    }\n",
       "\n",
       "    .dataframe tbody tr th {\n",
       "        vertical-align: top;\n",
       "    }\n",
       "\n",
       "    .dataframe thead th {\n",
       "        text-align: right;\n",
       "    }\n",
       "</style>\n",
       "<table border=\"1\" class=\"dataframe\">\n",
       "  <thead>\n",
       "    <tr style=\"text-align: right;\">\n",
       "      <th></th>\n",
       "      <th>RowNumber</th>\n",
       "      <th>CustomerId</th>\n",
       "      <th>Surname</th>\n",
       "      <th>CreditScore</th>\n",
       "      <th>Geography</th>\n",
       "      <th>Gender</th>\n",
       "      <th>Age</th>\n",
       "      <th>Tenure</th>\n",
       "      <th>Balance</th>\n",
       "      <th>NumOfProducts</th>\n",
       "      <th>HasCrCard</th>\n",
       "      <th>IsActiveMember</th>\n",
       "      <th>EstimatedSalary</th>\n",
       "      <th>Exited</th>\n",
       "    </tr>\n",
       "  </thead>\n",
       "  <tbody>\n",
       "    <tr>\n",
       "      <th>0</th>\n",
       "      <td>1</td>\n",
       "      <td>15634602</td>\n",
       "      <td>Hargrave</td>\n",
       "      <td>619</td>\n",
       "      <td>France</td>\n",
       "      <td>Female</td>\n",
       "      <td>42</td>\n",
       "      <td>2</td>\n",
       "      <td>0.00</td>\n",
       "      <td>1</td>\n",
       "      <td>1</td>\n",
       "      <td>1</td>\n",
       "      <td>101348.88</td>\n",
       "      <td>1</td>\n",
       "    </tr>\n",
       "    <tr>\n",
       "      <th>1</th>\n",
       "      <td>2</td>\n",
       "      <td>15647311</td>\n",
       "      <td>Hill</td>\n",
       "      <td>608</td>\n",
       "      <td>Spain</td>\n",
       "      <td>Female</td>\n",
       "      <td>41</td>\n",
       "      <td>1</td>\n",
       "      <td>83807.86</td>\n",
       "      <td>1</td>\n",
       "      <td>0</td>\n",
       "      <td>1</td>\n",
       "      <td>112542.58</td>\n",
       "      <td>0</td>\n",
       "    </tr>\n",
       "    <tr>\n",
       "      <th>2</th>\n",
       "      <td>3</td>\n",
       "      <td>15619304</td>\n",
       "      <td>Onio</td>\n",
       "      <td>502</td>\n",
       "      <td>France</td>\n",
       "      <td>Female</td>\n",
       "      <td>42</td>\n",
       "      <td>8</td>\n",
       "      <td>159660.80</td>\n",
       "      <td>3</td>\n",
       "      <td>1</td>\n",
       "      <td>0</td>\n",
       "      <td>113931.57</td>\n",
       "      <td>1</td>\n",
       "    </tr>\n",
       "    <tr>\n",
       "      <th>3</th>\n",
       "      <td>4</td>\n",
       "      <td>15701354</td>\n",
       "      <td>Boni</td>\n",
       "      <td>699</td>\n",
       "      <td>France</td>\n",
       "      <td>Female</td>\n",
       "      <td>39</td>\n",
       "      <td>1</td>\n",
       "      <td>0.00</td>\n",
       "      <td>2</td>\n",
       "      <td>0</td>\n",
       "      <td>0</td>\n",
       "      <td>93826.63</td>\n",
       "      <td>0</td>\n",
       "    </tr>\n",
       "    <tr>\n",
       "      <th>4</th>\n",
       "      <td>5</td>\n",
       "      <td>15737888</td>\n",
       "      <td>Mitchell</td>\n",
       "      <td>850</td>\n",
       "      <td>Spain</td>\n",
       "      <td>Female</td>\n",
       "      <td>43</td>\n",
       "      <td>2</td>\n",
       "      <td>125510.82</td>\n",
       "      <td>1</td>\n",
       "      <td>1</td>\n",
       "      <td>1</td>\n",
       "      <td>79084.10</td>\n",
       "      <td>0</td>\n",
       "    </tr>\n",
       "  </tbody>\n",
       "</table>\n",
       "</div>"
      ],
      "text/plain": [
       "   RowNumber  CustomerId   Surname  CreditScore Geography  Gender  Age  \\\n",
       "0          1    15634602  Hargrave          619    France  Female   42   \n",
       "1          2    15647311      Hill          608     Spain  Female   41   \n",
       "2          3    15619304      Onio          502    France  Female   42   \n",
       "3          4    15701354      Boni          699    France  Female   39   \n",
       "4          5    15737888  Mitchell          850     Spain  Female   43   \n",
       "\n",
       "   Tenure    Balance  NumOfProducts  HasCrCard  IsActiveMember  \\\n",
       "0       2       0.00              1          1               1   \n",
       "1       1   83807.86              1          0               1   \n",
       "2       8  159660.80              3          1               0   \n",
       "3       1       0.00              2          0               0   \n",
       "4       2  125510.82              1          1               1   \n",
       "\n",
       "   EstimatedSalary  Exited  \n",
       "0        101348.88       1  \n",
       "1        112542.58       0  \n",
       "2        113931.57       1  \n",
       "3         93826.63       0  \n",
       "4         79084.10       0  "
      ]
     },
     "execution_count": 3,
     "metadata": {},
     "output_type": "execute_result"
    }
   ],
   "source": [
    "df.head()"
   ]
  },
  {
   "cell_type": "code",
   "execution_count": 4,
   "id": "724d5d58",
   "metadata": {},
   "outputs": [
    {
     "name": "stdout",
     "output_type": "stream",
     "text": [
      "2.10.0\n"
     ]
    }
   ],
   "source": [
    "import tensorflow as tf\n",
    "print(tf.__version__)"
   ]
  },
  {
   "cell_type": "code",
   "execution_count": 5,
   "id": "67028c61",
   "metadata": {},
   "outputs": [],
   "source": [
    "#divide the data into two features ,one is independent features and other one is the dependent feature.\n",
    "x=df.iloc[:,3:13]\n",
    "y=df.iloc[:,-1]"
   ]
  },
  {
   "cell_type": "code",
   "execution_count": 6,
   "id": "8b8f2dbf",
   "metadata": {},
   "outputs": [
    {
     "data": {
      "text/html": [
       "<div>\n",
       "<style scoped>\n",
       "    .dataframe tbody tr th:only-of-type {\n",
       "        vertical-align: middle;\n",
       "    }\n",
       "\n",
       "    .dataframe tbody tr th {\n",
       "        vertical-align: top;\n",
       "    }\n",
       "\n",
       "    .dataframe thead th {\n",
       "        text-align: right;\n",
       "    }\n",
       "</style>\n",
       "<table border=\"1\" class=\"dataframe\">\n",
       "  <thead>\n",
       "    <tr style=\"text-align: right;\">\n",
       "      <th></th>\n",
       "      <th>CreditScore</th>\n",
       "      <th>Geography</th>\n",
       "      <th>Gender</th>\n",
       "      <th>Age</th>\n",
       "      <th>Tenure</th>\n",
       "      <th>Balance</th>\n",
       "      <th>NumOfProducts</th>\n",
       "      <th>HasCrCard</th>\n",
       "      <th>IsActiveMember</th>\n",
       "      <th>EstimatedSalary</th>\n",
       "    </tr>\n",
       "  </thead>\n",
       "  <tbody>\n",
       "    <tr>\n",
       "      <th>0</th>\n",
       "      <td>619</td>\n",
       "      <td>France</td>\n",
       "      <td>Female</td>\n",
       "      <td>42</td>\n",
       "      <td>2</td>\n",
       "      <td>0.00</td>\n",
       "      <td>1</td>\n",
       "      <td>1</td>\n",
       "      <td>1</td>\n",
       "      <td>101348.88</td>\n",
       "    </tr>\n",
       "    <tr>\n",
       "      <th>1</th>\n",
       "      <td>608</td>\n",
       "      <td>Spain</td>\n",
       "      <td>Female</td>\n",
       "      <td>41</td>\n",
       "      <td>1</td>\n",
       "      <td>83807.86</td>\n",
       "      <td>1</td>\n",
       "      <td>0</td>\n",
       "      <td>1</td>\n",
       "      <td>112542.58</td>\n",
       "    </tr>\n",
       "    <tr>\n",
       "      <th>2</th>\n",
       "      <td>502</td>\n",
       "      <td>France</td>\n",
       "      <td>Female</td>\n",
       "      <td>42</td>\n",
       "      <td>8</td>\n",
       "      <td>159660.80</td>\n",
       "      <td>3</td>\n",
       "      <td>1</td>\n",
       "      <td>0</td>\n",
       "      <td>113931.57</td>\n",
       "    </tr>\n",
       "    <tr>\n",
       "      <th>3</th>\n",
       "      <td>699</td>\n",
       "      <td>France</td>\n",
       "      <td>Female</td>\n",
       "      <td>39</td>\n",
       "      <td>1</td>\n",
       "      <td>0.00</td>\n",
       "      <td>2</td>\n",
       "      <td>0</td>\n",
       "      <td>0</td>\n",
       "      <td>93826.63</td>\n",
       "    </tr>\n",
       "    <tr>\n",
       "      <th>4</th>\n",
       "      <td>850</td>\n",
       "      <td>Spain</td>\n",
       "      <td>Female</td>\n",
       "      <td>43</td>\n",
       "      <td>2</td>\n",
       "      <td>125510.82</td>\n",
       "      <td>1</td>\n",
       "      <td>1</td>\n",
       "      <td>1</td>\n",
       "      <td>79084.10</td>\n",
       "    </tr>\n",
       "    <tr>\n",
       "      <th>...</th>\n",
       "      <td>...</td>\n",
       "      <td>...</td>\n",
       "      <td>...</td>\n",
       "      <td>...</td>\n",
       "      <td>...</td>\n",
       "      <td>...</td>\n",
       "      <td>...</td>\n",
       "      <td>...</td>\n",
       "      <td>...</td>\n",
       "      <td>...</td>\n",
       "    </tr>\n",
       "    <tr>\n",
       "      <th>9995</th>\n",
       "      <td>771</td>\n",
       "      <td>France</td>\n",
       "      <td>Male</td>\n",
       "      <td>39</td>\n",
       "      <td>5</td>\n",
       "      <td>0.00</td>\n",
       "      <td>2</td>\n",
       "      <td>1</td>\n",
       "      <td>0</td>\n",
       "      <td>96270.64</td>\n",
       "    </tr>\n",
       "    <tr>\n",
       "      <th>9996</th>\n",
       "      <td>516</td>\n",
       "      <td>France</td>\n",
       "      <td>Male</td>\n",
       "      <td>35</td>\n",
       "      <td>10</td>\n",
       "      <td>57369.61</td>\n",
       "      <td>1</td>\n",
       "      <td>1</td>\n",
       "      <td>1</td>\n",
       "      <td>101699.77</td>\n",
       "    </tr>\n",
       "    <tr>\n",
       "      <th>9997</th>\n",
       "      <td>709</td>\n",
       "      <td>France</td>\n",
       "      <td>Female</td>\n",
       "      <td>36</td>\n",
       "      <td>7</td>\n",
       "      <td>0.00</td>\n",
       "      <td>1</td>\n",
       "      <td>0</td>\n",
       "      <td>1</td>\n",
       "      <td>42085.58</td>\n",
       "    </tr>\n",
       "    <tr>\n",
       "      <th>9998</th>\n",
       "      <td>772</td>\n",
       "      <td>Germany</td>\n",
       "      <td>Male</td>\n",
       "      <td>42</td>\n",
       "      <td>3</td>\n",
       "      <td>75075.31</td>\n",
       "      <td>2</td>\n",
       "      <td>1</td>\n",
       "      <td>0</td>\n",
       "      <td>92888.52</td>\n",
       "    </tr>\n",
       "    <tr>\n",
       "      <th>9999</th>\n",
       "      <td>792</td>\n",
       "      <td>France</td>\n",
       "      <td>Female</td>\n",
       "      <td>28</td>\n",
       "      <td>4</td>\n",
       "      <td>130142.79</td>\n",
       "      <td>1</td>\n",
       "      <td>1</td>\n",
       "      <td>0</td>\n",
       "      <td>38190.78</td>\n",
       "    </tr>\n",
       "  </tbody>\n",
       "</table>\n",
       "<p>10000 rows × 10 columns</p>\n",
       "</div>"
      ],
      "text/plain": [
       "      CreditScore Geography  Gender  Age  Tenure    Balance  NumOfProducts  \\\n",
       "0             619    France  Female   42       2       0.00              1   \n",
       "1             608     Spain  Female   41       1   83807.86              1   \n",
       "2             502    France  Female   42       8  159660.80              3   \n",
       "3             699    France  Female   39       1       0.00              2   \n",
       "4             850     Spain  Female   43       2  125510.82              1   \n",
       "...           ...       ...     ...  ...     ...        ...            ...   \n",
       "9995          771    France    Male   39       5       0.00              2   \n",
       "9996          516    France    Male   35      10   57369.61              1   \n",
       "9997          709    France  Female   36       7       0.00              1   \n",
       "9998          772   Germany    Male   42       3   75075.31              2   \n",
       "9999          792    France  Female   28       4  130142.79              1   \n",
       "\n",
       "      HasCrCard  IsActiveMember  EstimatedSalary  \n",
       "0             1               1        101348.88  \n",
       "1             0               1        112542.58  \n",
       "2             1               0        113931.57  \n",
       "3             0               0         93826.63  \n",
       "4             1               1         79084.10  \n",
       "...         ...             ...              ...  \n",
       "9995          1               0         96270.64  \n",
       "9996          1               1        101699.77  \n",
       "9997          0               1         42085.58  \n",
       "9998          1               0         92888.52  \n",
       "9999          1               0         38190.78  \n",
       "\n",
       "[10000 rows x 10 columns]"
      ]
     },
     "execution_count": 6,
     "metadata": {},
     "output_type": "execute_result"
    }
   ],
   "source": [
    "x"
   ]
  },
  {
   "cell_type": "code",
   "execution_count": 7,
   "id": "6494480d",
   "metadata": {},
   "outputs": [],
   "source": [
    "#in the independent features again there is categorical features.So,performing feature engineering.\n",
    "geography=pd.get_dummies(df['Geography'],drop_first=True)\n",
    "gender=pd.get_dummies(df['Gender'],drop_first=True)"
   ]
  },
  {
   "cell_type": "code",
   "execution_count": 8,
   "id": "63fa9ba8",
   "metadata": {},
   "outputs": [],
   "source": [
    "#now we concate each other.\n",
    "x=pd.concat([x,geography,gender],axis=1)"
   ]
  },
  {
   "cell_type": "code",
   "execution_count": 9,
   "id": "aef083dd",
   "metadata": {},
   "outputs": [],
   "source": [
    "x.drop(['Geography','Gender'],axis=1,inplace=True)"
   ]
  },
  {
   "cell_type": "code",
   "execution_count": 10,
   "id": "13ff22d8",
   "metadata": {},
   "outputs": [
    {
     "data": {
      "text/html": [
       "<div>\n",
       "<style scoped>\n",
       "    .dataframe tbody tr th:only-of-type {\n",
       "        vertical-align: middle;\n",
       "    }\n",
       "\n",
       "    .dataframe tbody tr th {\n",
       "        vertical-align: top;\n",
       "    }\n",
       "\n",
       "    .dataframe thead th {\n",
       "        text-align: right;\n",
       "    }\n",
       "</style>\n",
       "<table border=\"1\" class=\"dataframe\">\n",
       "  <thead>\n",
       "    <tr style=\"text-align: right;\">\n",
       "      <th></th>\n",
       "      <th>CreditScore</th>\n",
       "      <th>Age</th>\n",
       "      <th>Tenure</th>\n",
       "      <th>Balance</th>\n",
       "      <th>NumOfProducts</th>\n",
       "      <th>HasCrCard</th>\n",
       "      <th>IsActiveMember</th>\n",
       "      <th>EstimatedSalary</th>\n",
       "      <th>Germany</th>\n",
       "      <th>Spain</th>\n",
       "      <th>Male</th>\n",
       "    </tr>\n",
       "  </thead>\n",
       "  <tbody>\n",
       "    <tr>\n",
       "      <th>0</th>\n",
       "      <td>619</td>\n",
       "      <td>42</td>\n",
       "      <td>2</td>\n",
       "      <td>0.00</td>\n",
       "      <td>1</td>\n",
       "      <td>1</td>\n",
       "      <td>1</td>\n",
       "      <td>101348.88</td>\n",
       "      <td>0</td>\n",
       "      <td>0</td>\n",
       "      <td>0</td>\n",
       "    </tr>\n",
       "    <tr>\n",
       "      <th>1</th>\n",
       "      <td>608</td>\n",
       "      <td>41</td>\n",
       "      <td>1</td>\n",
       "      <td>83807.86</td>\n",
       "      <td>1</td>\n",
       "      <td>0</td>\n",
       "      <td>1</td>\n",
       "      <td>112542.58</td>\n",
       "      <td>0</td>\n",
       "      <td>1</td>\n",
       "      <td>0</td>\n",
       "    </tr>\n",
       "    <tr>\n",
       "      <th>2</th>\n",
       "      <td>502</td>\n",
       "      <td>42</td>\n",
       "      <td>8</td>\n",
       "      <td>159660.80</td>\n",
       "      <td>3</td>\n",
       "      <td>1</td>\n",
       "      <td>0</td>\n",
       "      <td>113931.57</td>\n",
       "      <td>0</td>\n",
       "      <td>0</td>\n",
       "      <td>0</td>\n",
       "    </tr>\n",
       "    <tr>\n",
       "      <th>3</th>\n",
       "      <td>699</td>\n",
       "      <td>39</td>\n",
       "      <td>1</td>\n",
       "      <td>0.00</td>\n",
       "      <td>2</td>\n",
       "      <td>0</td>\n",
       "      <td>0</td>\n",
       "      <td>93826.63</td>\n",
       "      <td>0</td>\n",
       "      <td>0</td>\n",
       "      <td>0</td>\n",
       "    </tr>\n",
       "    <tr>\n",
       "      <th>4</th>\n",
       "      <td>850</td>\n",
       "      <td>43</td>\n",
       "      <td>2</td>\n",
       "      <td>125510.82</td>\n",
       "      <td>1</td>\n",
       "      <td>1</td>\n",
       "      <td>1</td>\n",
       "      <td>79084.10</td>\n",
       "      <td>0</td>\n",
       "      <td>1</td>\n",
       "      <td>0</td>\n",
       "    </tr>\n",
       "  </tbody>\n",
       "</table>\n",
       "</div>"
      ],
      "text/plain": [
       "   CreditScore  Age  Tenure    Balance  NumOfProducts  HasCrCard  \\\n",
       "0          619   42       2       0.00              1          1   \n",
       "1          608   41       1   83807.86              1          0   \n",
       "2          502   42       8  159660.80              3          1   \n",
       "3          699   39       1       0.00              2          0   \n",
       "4          850   43       2  125510.82              1          1   \n",
       "\n",
       "   IsActiveMember  EstimatedSalary  Germany  Spain  Male  \n",
       "0               1        101348.88        0      0     0  \n",
       "1               1        112542.58        0      1     0  \n",
       "2               0        113931.57        0      0     0  \n",
       "3               0         93826.63        0      0     0  \n",
       "4               1         79084.10        0      1     0  "
      ]
     },
     "execution_count": 10,
     "metadata": {},
     "output_type": "execute_result"
    }
   ],
   "source": [
    "x.head()"
   ]
  },
  {
   "cell_type": "code",
   "execution_count": 11,
   "id": "4afc45cf",
   "metadata": {},
   "outputs": [],
   "source": [
    "#now split the data into training set and testing set \n",
    "from sklearn.model_selection import train_test_split\n",
    "x_train,x_test,y_train,y_test=train_test_split(x,y,random_state=0)"
   ]
  },
  {
   "cell_type": "code",
   "execution_count": 12,
   "id": "01e83a22",
   "metadata": {},
   "outputs": [
    {
     "name": "stdout",
     "output_type": "stream",
     "text": [
      "(7500, 11) (2500, 11) (7500,) (2500,)\n"
     ]
    }
   ],
   "source": [
    "print(x_train.shape,x_test.shape,y_train.shape,y_test.shape)"
   ]
  },
  {
   "cell_type": "code",
   "execution_count": 13,
   "id": "c29a899b",
   "metadata": {},
   "outputs": [],
   "source": [
    "from sklearn.preprocessing import StandardScaler\n",
    "sc=StandardScaler()"
   ]
  },
  {
   "cell_type": "code",
   "execution_count": 14,
   "id": "275f43f7",
   "metadata": {},
   "outputs": [],
   "source": [
    "x_train=sc.fit_transform(x_train)\n",
    "x_test=sc.transform(x_test)"
   ]
  },
  {
   "cell_type": "code",
   "execution_count": 15,
   "id": "f75851bc",
   "metadata": {},
   "outputs": [
    {
     "data": {
      "text/plain": [
       "array([[-0.73550706,  0.01526571,  0.00886037, ...,  1.76021608,\n",
       "        -0.57468161, -1.08726059],\n",
       "       [ 1.02442719, -0.65260917,  0.00886037, ..., -0.56811207,\n",
       "        -0.57468161, -1.08726059],\n",
       "       [ 0.80829492, -0.46178778,  1.39329338, ..., -0.56811207,\n",
       "         1.74009395, -1.08726059],\n",
       "       ...,\n",
       "       [ 0.90092304, -0.36637708,  0.00886037, ..., -0.56811207,\n",
       "        -0.57468161,  0.91974271],\n",
       "       [-0.62229491, -0.08014499,  1.39329338, ..., -0.56811207,\n",
       "         1.74009395, -1.08726059],\n",
       "       [-0.28265848,  0.87396199, -1.37557264, ...,  1.76021608,\n",
       "        -0.57468161, -1.08726059]])"
      ]
     },
     "execution_count": 15,
     "metadata": {},
     "output_type": "execute_result"
    }
   ],
   "source": [
    "x_train"
   ]
  },
  {
   "cell_type": "code",
   "execution_count": 16,
   "id": "89750eb2",
   "metadata": {},
   "outputs": [
    {
     "data": {
      "text/plain": [
       "array([[-0.55025082, -0.36637708,  1.04718513, ...,  1.76021608,\n",
       "        -0.57468161, -1.08726059],\n",
       "       [-1.31185979,  0.11067641, -1.02946438, ..., -0.56811207,\n",
       "        -0.57468161, -1.08726059],\n",
       "       [ 0.57157862,  0.3014978 ,  1.04718513, ..., -0.56811207,\n",
       "         1.74009395, -1.08726059],\n",
       "       ...,\n",
       "       [ 1.95070838,  0.01526571, -1.37557264, ..., -0.56811207,\n",
       "        -0.57468161, -1.08726059],\n",
       "       [ 0.29369426, -0.08014499,  0.70107688, ...,  1.76021608,\n",
       "        -0.57468161,  0.91974271],\n",
       "       [ 0.870047  , -0.74801987, -0.68335613, ..., -0.56811207,\n",
       "        -0.57468161,  0.91974271]])"
      ]
     },
     "execution_count": 16,
     "metadata": {},
     "output_type": "execute_result"
    }
   ],
   "source": [
    "x_test"
   ]
  },
  {
   "cell_type": "code",
   "execution_count": 20,
   "id": "8e068301",
   "metadata": {},
   "outputs": [],
   "source": [
    "# next to create a ANN\n",
    "from tensorflow.keras.models import Sequential\n",
    "from tensorflow.keras.layers import Dense\n",
    "from tensorflow.keras.layers import ReLU,LeakyReLU,PReLU,ELU\n",
    "from tensorflow.keras.layers import Dropout"
   ]
  },
  {
   "cell_type": "code",
   "execution_count": 22,
   "id": "26e03732",
   "metadata": {},
   "outputs": [],
   "source": [
    "#now first intialize the ANN\n",
    "classifier=Sequential()"
   ]
  },
  {
   "cell_type": "code",
   "execution_count": 23,
   "id": "644f2c3b",
   "metadata": {},
   "outputs": [],
   "source": [
    "#first import the input layer\n",
    "classifier.add(Dense(units=11,activation='relu'))"
   ]
  },
  {
   "cell_type": "code",
   "execution_count": 24,
   "id": "8d98d385",
   "metadata": {},
   "outputs": [],
   "source": [
    "# next import the first hidden layer\n",
    "classifier.add(Dense(units=6,activation='relu'))"
   ]
  },
  {
   "cell_type": "code",
   "execution_count": 25,
   "id": "9a9448a8",
   "metadata": {},
   "outputs": [],
   "source": [
    "# we import the another hidden layer\n",
    "classifier.add(Dense(units=6,activation='relu'))"
   ]
  },
  {
   "cell_type": "code",
   "execution_count": 26,
   "id": "e0519a6a",
   "metadata": {},
   "outputs": [],
   "source": [
    "# we create a output layer\n",
    "classifier.add(Dense(units=1,activation='sigmoid'))"
   ]
  },
  {
   "cell_type": "code",
   "execution_count": 29,
   "id": "456ea7aa",
   "metadata": {},
   "outputs": [],
   "source": [
    "#after that we compile a ANN\n",
    "classifier.compile(optimizer='adam',loss='binary_crossentropy',metrics=['accuracy'])"
   ]
  },
  {
   "cell_type": "code",
   "execution_count": 52,
   "id": "97906800",
   "metadata": {},
   "outputs": [
    {
     "name": "stdout",
     "output_type": "stream",
     "text": [
      "Epoch 1/30\n",
      "503/503 [==============================] - 1s 1ms/step - loss: 0.3135 - accuracy: 0.8682 - val_loss: 0.3504 - val_accuracy: 0.8566\n",
      "Epoch 2/30\n",
      "503/503 [==============================] - 1s 1ms/step - loss: 0.3135 - accuracy: 0.8704 - val_loss: 0.3542 - val_accuracy: 0.8526\n",
      "Epoch 3/30\n",
      "503/503 [==============================] - 1s 1ms/step - loss: 0.3131 - accuracy: 0.8684 - val_loss: 0.3519 - val_accuracy: 0.8550\n",
      "Epoch 4/30\n",
      "503/503 [==============================] - 1s 1ms/step - loss: 0.3134 - accuracy: 0.8670 - val_loss: 0.3516 - val_accuracy: 0.8546\n",
      "Epoch 5/30\n",
      "503/503 [==============================] - 1s 1ms/step - loss: 0.3127 - accuracy: 0.8676 - val_loss: 0.3556 - val_accuracy: 0.8582\n",
      "Epoch 6/30\n",
      "503/503 [==============================] - 1s 1ms/step - loss: 0.3127 - accuracy: 0.8664 - val_loss: 0.3496 - val_accuracy: 0.8558\n",
      "Epoch 7/30\n",
      "503/503 [==============================] - 1s 1ms/step - loss: 0.3121 - accuracy: 0.8702 - val_loss: 0.3518 - val_accuracy: 0.8570\n",
      "Epoch 8/30\n",
      "503/503 [==============================] - 1s 1ms/step - loss: 0.3117 - accuracy: 0.8684 - val_loss: 0.3534 - val_accuracy: 0.8526\n",
      "Epoch 9/30\n",
      "503/503 [==============================] - 1s 1ms/step - loss: 0.3115 - accuracy: 0.8658 - val_loss: 0.3552 - val_accuracy: 0.8534\n",
      "Epoch 10/30\n",
      "503/503 [==============================] - 1s 1ms/step - loss: 0.3113 - accuracy: 0.8694 - val_loss: 0.3530 - val_accuracy: 0.8554\n",
      "Epoch 11/30\n",
      "503/503 [==============================] - 1s 1ms/step - loss: 0.3103 - accuracy: 0.8674 - val_loss: 0.3543 - val_accuracy: 0.8534\n",
      "Epoch 12/30\n",
      "503/503 [==============================] - 1s 1ms/step - loss: 0.3109 - accuracy: 0.8690 - val_loss: 0.3596 - val_accuracy: 0.8558\n",
      "Epoch 13/30\n",
      "503/503 [==============================] - 1s 1ms/step - loss: 0.3104 - accuracy: 0.8688 - val_loss: 0.3535 - val_accuracy: 0.8538\n",
      "Epoch 14/30\n",
      "503/503 [==============================] - 1s 1ms/step - loss: 0.3104 - accuracy: 0.8672 - val_loss: 0.3514 - val_accuracy: 0.8582\n",
      "Epoch 15/30\n",
      "503/503 [==============================] - 1s 1ms/step - loss: 0.3098 - accuracy: 0.8714 - val_loss: 0.3547 - val_accuracy: 0.8570\n",
      "Epoch 16/30\n",
      "503/503 [==============================] - 1s 1ms/step - loss: 0.3098 - accuracy: 0.8710 - val_loss: 0.3549 - val_accuracy: 0.8538\n",
      "Epoch 17/30\n",
      "503/503 [==============================] - 1s 1ms/step - loss: 0.3091 - accuracy: 0.8682 - val_loss: 0.3585 - val_accuracy: 0.8526\n",
      "Epoch 18/30\n",
      "503/503 [==============================] - 1s 1ms/step - loss: 0.3101 - accuracy: 0.8708 - val_loss: 0.3556 - val_accuracy: 0.8574\n",
      "Epoch 19/30\n",
      "503/503 [==============================] - 1s 1ms/step - loss: 0.3084 - accuracy: 0.8702 - val_loss: 0.3537 - val_accuracy: 0.8558\n",
      "Epoch 20/30\n",
      "503/503 [==============================] - 1s 1ms/step - loss: 0.3083 - accuracy: 0.8680 - val_loss: 0.3554 - val_accuracy: 0.8534\n",
      "Epoch 21/30\n",
      "503/503 [==============================] - 1s 1ms/step - loss: 0.3083 - accuracy: 0.8674 - val_loss: 0.3545 - val_accuracy: 0.8566\n",
      "Epoch 22/30\n",
      "503/503 [==============================] - 1s 1ms/step - loss: 0.3074 - accuracy: 0.8688 - val_loss: 0.3606 - val_accuracy: 0.8538\n",
      "Epoch 23/30\n",
      "503/503 [==============================] - 1s 1ms/step - loss: 0.3085 - accuracy: 0.8682 - val_loss: 0.3562 - val_accuracy: 0.8570\n",
      "Epoch 24/30\n",
      "503/503 [==============================] - 1s 1ms/step - loss: 0.3079 - accuracy: 0.8708 - val_loss: 0.3588 - val_accuracy: 0.8502\n",
      "Epoch 25/30\n",
      "503/503 [==============================] - 1s 1ms/step - loss: 0.3077 - accuracy: 0.8700 - val_loss: 0.3563 - val_accuracy: 0.8522\n",
      "Epoch 26/30\n",
      "503/503 [==============================] - 1s 1ms/step - loss: 0.3078 - accuracy: 0.8686 - val_loss: 0.3565 - val_accuracy: 0.8514\n",
      "Epoch 27/30\n",
      "503/503 [==============================] - 1s 1ms/step - loss: 0.3068 - accuracy: 0.8680 - val_loss: 0.3583 - val_accuracy: 0.8546\n",
      "Epoch 28/30\n",
      "503/503 [==============================] - 1s 1ms/step - loss: 0.3067 - accuracy: 0.8720 - val_loss: 0.3601 - val_accuracy: 0.8542\n",
      "Epoch 29/30\n",
      "503/503 [==============================] - 1s 1ms/step - loss: 0.3072 - accuracy: 0.8698 - val_loss: 0.3605 - val_accuracy: 0.8530\n",
      "Epoch 30/30\n",
      "503/503 [==============================] - 1s 1ms/step - loss: 0.3062 - accuracy: 0.8700 - val_loss: 0.3595 - val_accuracy: 0.8558\n"
     ]
    }
   ],
   "source": [
    "model_history=classifier.fit(x_train,y_train,validation_split=0.33,batch_size=10,epochs=30)"
   ]
  },
  {
   "cell_type": "code",
   "execution_count": 53,
   "id": "7d44908b",
   "metadata": {},
   "outputs": [
    {
     "data": {
      "text/plain": [
       "(7500, 11)"
      ]
     },
     "execution_count": 53,
     "metadata": {},
     "output_type": "execute_result"
    }
   ],
   "source": [
    "x_train.shape"
   ]
  },
  {
   "cell_type": "code",
   "execution_count": 54,
   "id": "c61a2d1b",
   "metadata": {},
   "outputs": [
    {
     "name": "stdout",
     "output_type": "stream",
     "text": [
      "79/79 [==============================] - 0s 523us/step\n"
     ]
    }
   ],
   "source": [
    "#make the predections also.\n",
    "y_pred=classifier.predict(x_test)\n",
    "y_pred=(y_test>=0.5)"
   ]
  },
  {
   "cell_type": "code",
   "execution_count": 55,
   "id": "4678e417",
   "metadata": {},
   "outputs": [
    {
     "data": {
      "text/plain": [
       "array([[2116,    0],\n",
       "       [   0,  384]], dtype=int64)"
      ]
     },
     "execution_count": 55,
     "metadata": {},
     "output_type": "execute_result"
    }
   ],
   "source": [
    "#make the confusion matrix\n",
    "from sklearn.metrics import confusion_matrix\n",
    "confusion_matrix(y_test,y_pred)"
   ]
  },
  {
   "cell_type": "code",
   "execution_count": 56,
   "id": "148c0451",
   "metadata": {},
   "outputs": [
    {
     "name": "stdout",
     "output_type": "stream",
     "text": [
      "              precision    recall  f1-score   support\n",
      "\n",
      "       False       1.00      1.00      1.00      2116\n",
      "        True       1.00      1.00      1.00       384\n",
      "\n",
      "    accuracy                           1.00      2500\n",
      "   macro avg       1.00      1.00      1.00      2500\n",
      "weighted avg       1.00      1.00      1.00      2500\n",
      "\n"
     ]
    }
   ],
   "source": [
    "#make classification report on this.\n",
    "from sklearn.metrics import classification_report\n",
    "print(classification_report(y_test,y_pred))"
   ]
  },
  {
   "cell_type": "code",
   "execution_count": 58,
   "id": "8fcc1cb1",
   "metadata": {},
   "outputs": [
    {
     "data": {
      "text/plain": [
       "[array([[-0.06040627,  0.06037453,  0.16024719,  0.11090348,  0.2614032 ,\n",
       "         -0.06135819,  0.05054236,  0.07547148,  0.10372623,  0.08262281,\n",
       "          0.04964312],\n",
       "        [-0.22772242, -0.9096578 ,  0.3096231 , -0.07810889, -0.18536052,\n",
       "          0.22582376,  0.78840494, -0.24201448, -0.45873055, -1.2194178 ,\n",
       "          0.08190832],\n",
       "        [ 0.03018771,  0.08337368,  0.08278858,  0.62834466,  0.7821393 ,\n",
       "         -0.11514267,  0.2590384 ,  0.2357948 , -0.04314716,  0.34386846,\n",
       "          0.30060464],\n",
       "        [-1.2992831 ,  0.03994787,  0.35725558, -0.27365115, -0.6821358 ,\n",
       "          0.4715544 , -0.49423712, -0.60932595, -1.056292  ,  0.22769573,\n",
       "          0.19054383],\n",
       "        [ 0.0525628 , -0.02296066, -0.33176813,  0.05750361,  0.6131699 ,\n",
       "         -0.35741824, -0.09605616, -1.0499876 ,  0.27072984,  0.12506601,\n",
       "          1.1947291 ],\n",
       "        [ 0.24373661,  0.04237556,  0.62426794, -0.31357938, -0.28518826,\n",
       "          0.20312534, -0.01210181, -0.23054416,  0.08353184, -0.4308249 ,\n",
       "          0.01995633],\n",
       "        [-0.0983235 , -0.41433772,  0.3158597 ,  0.3034155 ,  0.1616855 ,\n",
       "         -0.79020464,  0.9320638 ,  0.0678676 ,  0.15831496,  0.08505304,\n",
       "          0.06689657],\n",
       "        [-0.18306826, -0.03316301, -0.02450474, -0.52444816, -0.23742037,\n",
       "         -0.02123401,  0.16956572,  0.12743668,  0.00369573,  0.03233275,\n",
       "         -0.09169769],\n",
       "        [-0.16129322, -0.18882333,  0.36514443, -0.20282298,  0.6788785 ,\n",
       "         -0.14026022, -0.2055751 ,  0.36614004,  0.5398131 ,  0.21608925,\n",
       "         -0.19406189],\n",
       "        [ 0.3823557 , -0.05292675,  0.23945808,  0.05150624,  0.18900841,\n",
       "          0.06447163,  0.10136431, -0.0662101 ,  0.08765444,  0.19526395,\n",
       "          0.30611345],\n",
       "        [ 0.05734669,  0.00206252,  0.04622032,  0.2577896 , -0.08095009,\n",
       "         -0.06658445,  0.62935466,  0.07980316,  0.06508194, -0.0285325 ,\n",
       "          0.17813323]], dtype=float32),\n",
       " array([-0.34032163,  1.1051939 ,  0.13377921,  0.04477831,  0.32593587,\n",
       "         0.00445566,  0.06164119,  0.08833021, -0.17471698,  0.1907353 ,\n",
       "        -0.07004377], dtype=float32),\n",
       " array([[-0.448663  ,  0.81962085,  0.09440327,  0.39392766, -0.46979523,\n",
       "         -0.02869824],\n",
       "        [ 0.2484789 ,  0.13663049, -0.7467827 , -0.52266324, -1.093251  ,\n",
       "          0.65419686],\n",
       "        [-0.61129445,  0.2552661 , -0.08041181, -0.27264518, -0.5613605 ,\n",
       "          0.02710455],\n",
       "        [-0.28716895,  0.01284009,  0.40909505, -0.13581489,  0.0669371 ,\n",
       "          0.6521339 ],\n",
       "        [-0.32411733, -0.21433474, -0.5716485 ,  0.5865009 , -0.03472821,\n",
       "         -0.5564644 ],\n",
       "        [-0.629033  ,  0.28622392,  0.11075891,  0.7008689 ,  0.54949594,\n",
       "         -0.34307244],\n",
       "        [-0.33798775, -0.04861581,  0.09712462,  0.09469174, -0.02824229,\n",
       "          0.73144835],\n",
       "        [-3.282553  ,  0.22144666,  0.82042336,  0.47777128,  0.31887072,\n",
       "         -0.16564775],\n",
       "        [ 0.29730713, -0.15112692, -0.6043876 , -1.6188506 ,  0.11208719,\n",
       "          0.7129135 ],\n",
       "        [ 0.1290899 ,  0.5589906 , -0.5858353 ,  0.06271312, -0.6947681 ,\n",
       "          0.4576343 ],\n",
       "        [ 0.77185637, -1.9012693 , -0.13518944, -0.8228206 ,  0.9217411 ,\n",
       "         -0.04838756]], dtype=float32),\n",
       " array([-0.2596553 , -0.13081032,  0.54339516,  0.20945756,  0.02889882,\n",
       "         0.3770326 ], dtype=float32),\n",
       " array([[ 0.6546401 ,  0.871944  ,  1.1675197 , -0.21575028, -0.5992838 ,\n",
       "         -1.1016289 ],\n",
       "        [ 0.5614947 ,  0.38389906,  0.29829746, -0.82980597,  0.33556885,\n",
       "          0.76575357],\n",
       "        [-0.16970532,  0.77220565, -0.18198445, -0.89587504, -0.08447398,\n",
       "         -0.8081576 ],\n",
       "        [-1.34578   ,  0.201205  ,  0.69785947,  0.40554276, -1.0582292 ,\n",
       "          0.17665519],\n",
       "        [-0.6485347 ,  1.1091377 ,  1.2142195 , -0.22439548,  0.45513046,\n",
       "          0.11114451],\n",
       "        [ 0.17016216,  0.05284341, -0.40722412,  0.5660489 ,  0.30163893,\n",
       "          1.0338746 ]], dtype=float32),\n",
       " array([-0.6972023 , -0.29084897,  0.02404455,  0.43250868,  0.11253954,\n",
       "         0.25999665], dtype=float32),\n",
       " array([[ 1.3503275 ],\n",
       "        [ 0.79790443],\n",
       "        [ 1.2892295 ],\n",
       "        [-1.4879231 ],\n",
       "        [-0.34926075],\n",
       "        [-0.4974233 ]], dtype=float32),\n",
       " array([-0.18805945], dtype=float32)]"
      ]
     },
     "execution_count": 58,
     "metadata": {},
     "output_type": "execute_result"
    }
   ],
   "source": [
    "#get weights\n",
    "classifier.get_weights()"
   ]
  },
  {
   "cell_type": "code",
   "execution_count": null,
   "id": "31fb5f7b",
   "metadata": {},
   "outputs": [],
   "source": []
  }
 ],
 "metadata": {
  "kernelspec": {
   "display_name": "Python 3 (ipykernel)",
   "language": "python",
   "name": "python3"
  },
  "language_info": {
   "codemirror_mode": {
    "name": "ipython",
    "version": 3
   },
   "file_extension": ".py",
   "mimetype": "text/x-python",
   "name": "python",
   "nbconvert_exporter": "python",
   "pygments_lexer": "ipython3",
   "version": "3.9.12"
  }
 },
 "nbformat": 4,
 "nbformat_minor": 5
}
